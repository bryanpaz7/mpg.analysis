{
 "cells": [
  {
   "cell_type": "code",
   "execution_count": null,
   "id": "52c10d36-de95-4b0f-8e9e-5066077734d0",
   "metadata": {},
   "outputs": [],
   "source": [
    "#import seaborn\n",
    "import seaborn as sns\n",
    "#naming data as mpg to use in the code\n",
    "mpg = sns.load_dataset('mpg')\n",
    "#import matplotlib\n",
    "import matplotlib.pyplot as plt\n",
    "#list the first five entries for reference\n",
    "mpg.head()"
   ]
  },
  {
   "cell_type": "code",
   "execution_count": null,
   "id": "273a73ff-4a72-4302-a370-25b3955fc8a6",
   "metadata": {},
   "outputs": [],
   "source": [
    "#1. Create a visual showing the relationship between horsepower and fuel economy.\n",
    "sns.scatterplot(data=mpg,\n",
    "                x=\"horsepower\",\n",
    "                y=\"mpg\",)\n",
    "plt.show()"
   ]
  },
  {
   "cell_type": "code",
   "execution_count": null,
   "id": "ce64b0bd-da81-4606-a574-edd7e29d16be",
   "metadata": {},
   "outputs": [],
   "source": [
    "## Create a table summarizing fuel economy by country of originsns.\n",
    "sns.displot(data=mpg, x=\"mpg\", hue=\"origin\", col=\"origin\",\n",
    "            legend=False)\n",
    "plt.show()"
   ]
  },
  {
   "cell_type": "code",
   "execution_count": null,
   "id": "a7fd70f5-dc74-40a1-9870-cca1828db6a2",
   "metadata": {},
   "outputs": [],
   "source": [
    "### Create a visual showing how fuel economy has changed over time"
   ]
  },
  {
   "cell_type": "code",
   "execution_count": null,
   "id": "c5fb7593-af13-485e-bc10-1836698fdb79",
   "metadata": {},
   "outputs": [],
   "source": [
    "sns.scatterplot(data=mpg, y=\"mpg\", x=\"model_year\", hue=\"mpg\")\n",
    "\n",
    "plt.show()"
   ]
  },
  {
   "cell_type": "code",
   "execution_count": null,
   "id": "ca6c3ffd-3f0b-422e-b2ea-d28a5a627307",
   "metadata": {},
   "outputs": [],
   "source": [
    "### Create two other visuals or tables related to fuel economy."
   ]
  },
  {
   "cell_type": "code",
   "execution_count": null,
   "id": "1af09c12-d529-49d5-85c7-f55b0fbb2a9e",
   "metadata": {},
   "outputs": [],
   "source": [
    "sns.lineplot(data=mpg,\n",
    "                x=\"mpg\",\n",
    "                y=\"weight\",)\n",
    "plt.gca().invert_yaxis()\n",
    "plt.show()"
   ]
  },
  {
   "cell_type": "code",
   "execution_count": null,
   "id": "41b8b7ee-ff5f-4e9b-a793-ed2c13368b72",
   "metadata": {},
   "outputs": [],
   "source": [
    "sns.displot(data=mpg, x=\"mpg\", hue=\"cylinders\", multiple=\"stack\")\n",
    "plt.show()"
   ]
  },
  {
   "cell_type": "code",
   "execution_count": null,
   "id": "bc23bdbc-6606-4d1d-a482-ce2ac811fb69",
   "metadata": {},
   "outputs": [],
   "source": []
  },
  {
   "cell_type": "code",
   "execution_count": null,
   "id": "f306f7eb-bbba-4786-ba87-e42a13a27b00",
   "metadata": {},
   "outputs": [],
   "source": []
  }
 ],
 "metadata": {
  "kernelspec": {
   "display_name": "Python [conda env:base] *",
   "language": "python",
   "name": "conda-base-py"
  },
  "language_info": {
   "codemirror_mode": {
    "name": "ipython",
    "version": 3
   },
   "file_extension": ".py",
   "mimetype": "text/x-python",
   "name": "python",
   "nbconvert_exporter": "python",
   "pygments_lexer": "ipython3",
   "version": "3.12.7"
  }
 },
 "nbformat": 4,
 "nbformat_minor": 5
}
